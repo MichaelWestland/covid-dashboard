{
 "cells": [
  {
   "cell_type": "code",
   "execution_count": 2,
   "id": "ace258f4",
   "metadata": {},
   "outputs": [],
   "source": [
    "import pandas as pd\n",
    "\n",
    "density = pd.read_csv('csvData.csv')\n",
    "covid = pd.read_csv('COVID-19 Dataset.csv')\n",
    "coordinaten = pd.read_csv('countries_codes_and_coordinates.csv')"
   ]
  },
  {
   "cell_type": "code",
   "execution_count": 3,
   "id": "36667240",
   "metadata": {},
   "outputs": [],
   "source": [
    "coordinaten['Latitude (average)'].replace('\"', '', regex=True, inplace=True)\n",
    "coordinaten['Longitude (average)'].replace('\"', '', regex=True, inplace=True)"
   ]
  },
  {
   "cell_type": "code",
   "execution_count": 4,
   "id": "128b6500",
   "metadata": {
    "scrolled": true
   },
   "outputs": [],
   "source": [
    "merged = pd.merge(covid, density, left_on='Country', right_on='country', how='inner')"
   ]
  },
  {
   "cell_type": "code",
   "execution_count": 5,
   "id": "36fd76f3",
   "metadata": {
    "scrolled": true
   },
   "outputs": [],
   "source": [
    "mergedbox = merged.dropna(subset= ['Total_Deaths'])"
   ]
  },
  {
   "cell_type": "code",
   "execution_count": 6,
   "id": "72d715e1",
   "metadata": {},
   "outputs": [],
   "source": [
    "mergeco = pd.merge(merged, coordinaten, left_on='Country', right_on='Country', how='inner')"
   ]
  },
  {
   "cell_type": "code",
   "execution_count": 7,
   "id": "7fc0455c",
   "metadata": {},
   "outputs": [],
   "source": [
    "mergeco.to_csv('mapdata.csv', index=False)"
   ]
  }
 ],
 "metadata": {
  "kernelspec": {
   "display_name": "Python 3",
   "language": "python",
   "name": "python3"
  },
  "language_info": {
   "codemirror_mode": {
    "name": "ipython",
    "version": 3
   },
   "file_extension": ".py",
   "mimetype": "text/x-python",
   "name": "python",
   "nbconvert_exporter": "python",
   "pygments_lexer": "ipython3",
   "version": "3.8.8"
  }
 },
 "nbformat": 4,
 "nbformat_minor": 5
}
