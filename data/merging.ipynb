{
 "cells": [
  {
   "cell_type": "code",
   "execution_count": 9,
   "metadata": {},
   "outputs": [],
   "source": [
    "import pandas as pd\n",
    "\n",
    "covid = pd.read_csv('COVID-19 Dataset.csv')\n",
    "density = pd.read_csv('csvData.csv')"
   ]
  },
  {
   "cell_type": "code",
   "execution_count": 10,
   "metadata": {},
   "outputs": [],
   "source": [
    "merged = covid.merge(density, left_on='Country', right_on='country', how='inner')"
   ]
  },
  {
   "cell_type": "code",
   "execution_count": 11,
   "metadata": {},
   "outputs": [],
   "source": [
    "merged = merged[['Continent', 'Country', 'Total_Cases', 'Total_Deaths', 'Total_Cases_Per_Million', 'Total_Deaths_Per_Million', 'Total_tests', 'Positive_rate', 'Total_Vaccinations', 'People_Vaccinated', 'People_Fully_Vaccinated', 'Median_Age', 'GDP_Per_Capita', 'density', 'pop2021']]\n",
    "merged['pop2021'] = merged['pop2021'] * 1000\n",
    "\n",
    "merged['Vaccinatiegraad'] = merged['People_Fully_Vaccinated'] / merged['pop2021'] * 100\n",
    "\n",
    "merged = merged[merged['Country'] != 'Gibraltar']\n",
    "\n",
    "merged[\"Continent\"].replace({\n",
    "  \"Asia\": \"Azië\", \n",
    "  \"Europe\": \"Europa\", \n",
    "  \"Africa\": \"Afrika\", \n",
    "  \"North America\": \"Noord-Amerika\", \n",
    "  \"South America\": \"Zuid-Amerika\", \n",
    "  \"Oceania\": \"Oceanië\"\n",
    "}, inplace=True)"
   ]
  },
  {
   "cell_type": "code",
   "execution_count": 12,
   "metadata": {},
   "outputs": [],
   "source": [
    "merged.to_csv('merged.csv', index=False)"
   ]
  }
 ],
 "metadata": {
  "interpreter": {
   "hash": "54e72497fd64358f52832107e3cdfaf9f975ee2964d8f26ed128ba56fc24de73"
  },
  "kernelspec": {
   "display_name": "Python 3.8.8 64-bit ('base': conda)",
   "language": "python",
   "name": "python3"
  },
  "language_info": {
   "codemirror_mode": {
    "name": "ipython",
    "version": 3
   },
   "file_extension": ".py",
   "mimetype": "text/x-python",
   "name": "python",
   "nbconvert_exporter": "python",
   "pygments_lexer": "ipython3",
   "version": "3.8.8"
  },
  "orig_nbformat": 4
 },
 "nbformat": 4,
 "nbformat_minor": 2
}
